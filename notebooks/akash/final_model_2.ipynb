{
 "cells": [
  {
   "cell_type": "markdown",
   "metadata": {},
   "source": [
    "### **Importing Libraries** <a id=\"head1\"></a>"
   ]
  },
  {
   "cell_type": "code",
   "execution_count": 1,
   "metadata": {
    "id": "jfK-0jg0fJfT"
   },
   "outputs": [],
   "source": [
    "import numpy as np\n",
    "import pandas as pd\n",
    "import matplotlib.pyplot as plt \n",
    "                                                                                   \n",
    "from sklearn.model_selection import train_test_split\n",
    "from sklearn.decomposition import PCA\n",
    "\n",
    "from sklearn.model_selection import GridSearchCV\n",
    "from sklearn.metrics import accuracy_score, confusion_matrix,classification_report\n",
    "from sklearn.ensemble import RandomForestClassifier\n",
    "from sklearn.linear_model import LogisticRegression\n",
    "from sklearn.svm import SVC\n",
    "from sklearn.pipeline import Pipeline\n",
    "from sklearn.preprocessing import StandardScaler\n",
    "from sklearn.metrics import roc_curve\n",
    "from sklearn.metrics import precision_recall_curve\n",
    "\n",
    "from sklearn.compose import ColumnTransformer\n",
    "from sklearn.impute import SimpleImputer\n",
    "\n",
    "import pickle\n",
    "\n",
    "import warnings\n",
    "warnings.filterwarnings('ignore')"
   ]
  },
  {
   "cell_type": "markdown",
   "metadata": {},
   "source": [
    "### **Loading Data** <a id=\"head2\"></a>"
   ]
  },
  {
   "cell_type": "code",
   "execution_count": 2,
   "metadata": {
    "id": "4ZTH64Nbfmud"
   },
   "outputs": [],
   "source": [
    "telco_customer = pd.read_csv(\"ChurnTrainDataset.csv\")"
   ]
  },
  {
   "cell_type": "code",
   "execution_count": 3,
   "metadata": {},
   "outputs": [
    {
     "data": {
      "text/html": [
       "<div>\n",
       "<style scoped>\n",
       "    .dataframe tbody tr th:only-of-type {\n",
       "        vertical-align: middle;\n",
       "    }\n",
       "\n",
       "    .dataframe tbody tr th {\n",
       "        vertical-align: top;\n",
       "    }\n",
       "\n",
       "    .dataframe thead th {\n",
       "        text-align: right;\n",
       "    }\n",
       "</style>\n",
       "<table border=\"1\" class=\"dataframe\">\n",
       "  <thead>\n",
       "    <tr style=\"text-align: right;\">\n",
       "      <th></th>\n",
       "      <th>state</th>\n",
       "      <th>account_length</th>\n",
       "      <th>area_code</th>\n",
       "      <th>international_plan</th>\n",
       "      <th>voice_mail_plan</th>\n",
       "      <th>number_vmail_messages</th>\n",
       "      <th>total_day_minutes</th>\n",
       "      <th>total_day_calls</th>\n",
       "      <th>total_day_charge</th>\n",
       "      <th>total_eve_minutes</th>\n",
       "      <th>total_eve_calls</th>\n",
       "      <th>total_eve_charge</th>\n",
       "      <th>total_night_minutes</th>\n",
       "      <th>total_night_calls</th>\n",
       "      <th>total_night_charge</th>\n",
       "      <th>total_intl_minutes</th>\n",
       "      <th>total_intl_calls</th>\n",
       "      <th>total_intl_charge</th>\n",
       "      <th>number_customer_service_calls</th>\n",
       "      <th>churn</th>\n",
       "    </tr>\n",
       "  </thead>\n",
       "  <tbody>\n",
       "    <tr>\n",
       "      <th>0</th>\n",
       "      <td>OH</td>\n",
       "      <td>107.0</td>\n",
       "      <td>area_code_415</td>\n",
       "      <td>no</td>\n",
       "      <td>yes</td>\n",
       "      <td>26.0</td>\n",
       "      <td>161.6</td>\n",
       "      <td>123.0</td>\n",
       "      <td>27.47</td>\n",
       "      <td>195.5</td>\n",
       "      <td>103.0</td>\n",
       "      <td>16.62</td>\n",
       "      <td>254.4</td>\n",
       "      <td>103.0</td>\n",
       "      <td>11.45</td>\n",
       "      <td>13.7</td>\n",
       "      <td>3.0</td>\n",
       "      <td>3.70</td>\n",
       "      <td>1.0</td>\n",
       "      <td>no</td>\n",
       "    </tr>\n",
       "    <tr>\n",
       "      <th>1</th>\n",
       "      <td>NJ</td>\n",
       "      <td>137.0</td>\n",
       "      <td>area_code_415</td>\n",
       "      <td>no</td>\n",
       "      <td>no</td>\n",
       "      <td>0.0</td>\n",
       "      <td>243.4</td>\n",
       "      <td>114.0</td>\n",
       "      <td>41.38</td>\n",
       "      <td>121.2</td>\n",
       "      <td>110.0</td>\n",
       "      <td>10.30</td>\n",
       "      <td>162.6</td>\n",
       "      <td>104.0</td>\n",
       "      <td>7.32</td>\n",
       "      <td>12.2</td>\n",
       "      <td>5.0</td>\n",
       "      <td>3.29</td>\n",
       "      <td>0.0</td>\n",
       "      <td>no</td>\n",
       "    </tr>\n",
       "    <tr>\n",
       "      <th>2</th>\n",
       "      <td>OH</td>\n",
       "      <td>84.0</td>\n",
       "      <td>area_code_408</td>\n",
       "      <td>yes</td>\n",
       "      <td>no</td>\n",
       "      <td>0.0</td>\n",
       "      <td>299.4</td>\n",
       "      <td>71.0</td>\n",
       "      <td>50.90</td>\n",
       "      <td>61.9</td>\n",
       "      <td>88.0</td>\n",
       "      <td>5.26</td>\n",
       "      <td>196.9</td>\n",
       "      <td>89.0</td>\n",
       "      <td>8.86</td>\n",
       "      <td>6.6</td>\n",
       "      <td>7.0</td>\n",
       "      <td>1.78</td>\n",
       "      <td>2.0</td>\n",
       "      <td>no</td>\n",
       "    </tr>\n",
       "    <tr>\n",
       "      <th>3</th>\n",
       "      <td>OK</td>\n",
       "      <td>75.0</td>\n",
       "      <td>area_code_415</td>\n",
       "      <td>yes</td>\n",
       "      <td>no</td>\n",
       "      <td>0.0</td>\n",
       "      <td>166.7</td>\n",
       "      <td>113.0</td>\n",
       "      <td>28.34</td>\n",
       "      <td>148.3</td>\n",
       "      <td>122.0</td>\n",
       "      <td>12.61</td>\n",
       "      <td>186.9</td>\n",
       "      <td>121.0</td>\n",
       "      <td>8.41</td>\n",
       "      <td>10.1</td>\n",
       "      <td>3.0</td>\n",
       "      <td>2.73</td>\n",
       "      <td>3.0</td>\n",
       "      <td>no</td>\n",
       "    </tr>\n",
       "    <tr>\n",
       "      <th>4</th>\n",
       "      <td>MA</td>\n",
       "      <td>121.0</td>\n",
       "      <td>area_code_510</td>\n",
       "      <td>no</td>\n",
       "      <td>yes</td>\n",
       "      <td>24.0</td>\n",
       "      <td>218.2</td>\n",
       "      <td>88.0</td>\n",
       "      <td>37.09</td>\n",
       "      <td>348.5</td>\n",
       "      <td>108.0</td>\n",
       "      <td>29.62</td>\n",
       "      <td>212.6</td>\n",
       "      <td>118.0</td>\n",
       "      <td>9.57</td>\n",
       "      <td>7.5</td>\n",
       "      <td>7.0</td>\n",
       "      <td>2.03</td>\n",
       "      <td>3.0</td>\n",
       "      <td>no</td>\n",
       "    </tr>\n",
       "    <tr>\n",
       "      <th>...</th>\n",
       "      <td>...</td>\n",
       "      <td>...</td>\n",
       "      <td>...</td>\n",
       "      <td>...</td>\n",
       "      <td>...</td>\n",
       "      <td>...</td>\n",
       "      <td>...</td>\n",
       "      <td>...</td>\n",
       "      <td>...</td>\n",
       "      <td>...</td>\n",
       "      <td>...</td>\n",
       "      <td>...</td>\n",
       "      <td>...</td>\n",
       "      <td>...</td>\n",
       "      <td>...</td>\n",
       "      <td>...</td>\n",
       "      <td>...</td>\n",
       "      <td>...</td>\n",
       "      <td>...</td>\n",
       "      <td>...</td>\n",
       "    </tr>\n",
       "    <tr>\n",
       "      <th>4245</th>\n",
       "      <td>MT</td>\n",
       "      <td>83.0</td>\n",
       "      <td>area_code_415</td>\n",
       "      <td>no</td>\n",
       "      <td>no</td>\n",
       "      <td>0.0</td>\n",
       "      <td>188.3</td>\n",
       "      <td>70.0</td>\n",
       "      <td>32.01</td>\n",
       "      <td>243.8</td>\n",
       "      <td>88.0</td>\n",
       "      <td>20.72</td>\n",
       "      <td>213.7</td>\n",
       "      <td>79.0</td>\n",
       "      <td>9.62</td>\n",
       "      <td>10.3</td>\n",
       "      <td>6.0</td>\n",
       "      <td>2.78</td>\n",
       "      <td>0.0</td>\n",
       "      <td>no</td>\n",
       "    </tr>\n",
       "    <tr>\n",
       "      <th>4246</th>\n",
       "      <td>WV</td>\n",
       "      <td>73.0</td>\n",
       "      <td>area_code_408</td>\n",
       "      <td>no</td>\n",
       "      <td>no</td>\n",
       "      <td>0.0</td>\n",
       "      <td>177.9</td>\n",
       "      <td>89.0</td>\n",
       "      <td>30.24</td>\n",
       "      <td>131.2</td>\n",
       "      <td>82.0</td>\n",
       "      <td>11.15</td>\n",
       "      <td>186.2</td>\n",
       "      <td>89.0</td>\n",
       "      <td>8.38</td>\n",
       "      <td>11.5</td>\n",
       "      <td>6.0</td>\n",
       "      <td>3.11</td>\n",
       "      <td>3.0</td>\n",
       "      <td>no</td>\n",
       "    </tr>\n",
       "    <tr>\n",
       "      <th>4247</th>\n",
       "      <td>NC</td>\n",
       "      <td>75.0</td>\n",
       "      <td>area_code_408</td>\n",
       "      <td>no</td>\n",
       "      <td>no</td>\n",
       "      <td>0.0</td>\n",
       "      <td>170.7</td>\n",
       "      <td>101.0</td>\n",
       "      <td>29.02</td>\n",
       "      <td>193.1</td>\n",
       "      <td>126.0</td>\n",
       "      <td>16.41</td>\n",
       "      <td>129.1</td>\n",
       "      <td>104.0</td>\n",
       "      <td>5.81</td>\n",
       "      <td>6.9</td>\n",
       "      <td>7.0</td>\n",
       "      <td>1.86</td>\n",
       "      <td>1.0</td>\n",
       "      <td>no</td>\n",
       "    </tr>\n",
       "    <tr>\n",
       "      <th>4248</th>\n",
       "      <td>HI</td>\n",
       "      <td>50.0</td>\n",
       "      <td>area_code_408</td>\n",
       "      <td>no</td>\n",
       "      <td>yes</td>\n",
       "      <td>40.0</td>\n",
       "      <td>235.7</td>\n",
       "      <td>127.0</td>\n",
       "      <td>40.07</td>\n",
       "      <td>223.0</td>\n",
       "      <td>126.0</td>\n",
       "      <td>18.96</td>\n",
       "      <td>297.5</td>\n",
       "      <td>116.0</td>\n",
       "      <td>13.39</td>\n",
       "      <td>9.9</td>\n",
       "      <td>5.0</td>\n",
       "      <td>2.67</td>\n",
       "      <td>2.0</td>\n",
       "      <td>no</td>\n",
       "    </tr>\n",
       "    <tr>\n",
       "      <th>4249</th>\n",
       "      <td>VT</td>\n",
       "      <td>86.0</td>\n",
       "      <td>area_code_415</td>\n",
       "      <td>no</td>\n",
       "      <td>yes</td>\n",
       "      <td>34.0</td>\n",
       "      <td>129.4</td>\n",
       "      <td>102.0</td>\n",
       "      <td>22.00</td>\n",
       "      <td>267.1</td>\n",
       "      <td>104.0</td>\n",
       "      <td>22.70</td>\n",
       "      <td>154.8</td>\n",
       "      <td>100.0</td>\n",
       "      <td>6.97</td>\n",
       "      <td>9.3</td>\n",
       "      <td>16.0</td>\n",
       "      <td>2.51</td>\n",
       "      <td>0.0</td>\n",
       "      <td>no</td>\n",
       "    </tr>\n",
       "  </tbody>\n",
       "</table>\n",
       "<p>4250 rows × 20 columns</p>\n",
       "</div>"
      ],
      "text/plain": [
       "     state  account_length      area_code international_plan voice_mail_plan  \\\n",
       "0       OH           107.0  area_code_415                 no             yes   \n",
       "1       NJ           137.0  area_code_415                 no              no   \n",
       "2       OH            84.0  area_code_408                yes              no   \n",
       "3       OK            75.0  area_code_415                yes              no   \n",
       "4       MA           121.0  area_code_510                 no             yes   \n",
       "...    ...             ...            ...                ...             ...   \n",
       "4245    MT            83.0  area_code_415                 no              no   \n",
       "4246    WV            73.0  area_code_408                 no              no   \n",
       "4247    NC            75.0  area_code_408                 no              no   \n",
       "4248    HI            50.0  area_code_408                 no             yes   \n",
       "4249    VT            86.0  area_code_415                 no             yes   \n",
       "\n",
       "      number_vmail_messages  total_day_minutes  total_day_calls  \\\n",
       "0                      26.0              161.6            123.0   \n",
       "1                       0.0              243.4            114.0   \n",
       "2                       0.0              299.4             71.0   \n",
       "3                       0.0              166.7            113.0   \n",
       "4                      24.0              218.2             88.0   \n",
       "...                     ...                ...              ...   \n",
       "4245                    0.0              188.3             70.0   \n",
       "4246                    0.0              177.9             89.0   \n",
       "4247                    0.0              170.7            101.0   \n",
       "4248                   40.0              235.7            127.0   \n",
       "4249                   34.0              129.4            102.0   \n",
       "\n",
       "      total_day_charge  total_eve_minutes  total_eve_calls  total_eve_charge  \\\n",
       "0                27.47              195.5            103.0             16.62   \n",
       "1                41.38              121.2            110.0             10.30   \n",
       "2                50.90               61.9             88.0              5.26   \n",
       "3                28.34              148.3            122.0             12.61   \n",
       "4                37.09              348.5            108.0             29.62   \n",
       "...                ...                ...              ...               ...   \n",
       "4245             32.01              243.8             88.0             20.72   \n",
       "4246             30.24              131.2             82.0             11.15   \n",
       "4247             29.02              193.1            126.0             16.41   \n",
       "4248             40.07              223.0            126.0             18.96   \n",
       "4249             22.00              267.1            104.0             22.70   \n",
       "\n",
       "      total_night_minutes  total_night_calls  total_night_charge  \\\n",
       "0                   254.4              103.0               11.45   \n",
       "1                   162.6              104.0                7.32   \n",
       "2                   196.9               89.0                8.86   \n",
       "3                   186.9              121.0                8.41   \n",
       "4                   212.6              118.0                9.57   \n",
       "...                   ...                ...                 ...   \n",
       "4245                213.7               79.0                9.62   \n",
       "4246                186.2               89.0                8.38   \n",
       "4247                129.1              104.0                5.81   \n",
       "4248                297.5              116.0               13.39   \n",
       "4249                154.8              100.0                6.97   \n",
       "\n",
       "      total_intl_minutes  total_intl_calls  total_intl_charge  \\\n",
       "0                   13.7               3.0               3.70   \n",
       "1                   12.2               5.0               3.29   \n",
       "2                    6.6               7.0               1.78   \n",
       "3                   10.1               3.0               2.73   \n",
       "4                    7.5               7.0               2.03   \n",
       "...                  ...               ...                ...   \n",
       "4245                10.3               6.0               2.78   \n",
       "4246                11.5               6.0               3.11   \n",
       "4247                 6.9               7.0               1.86   \n",
       "4248                 9.9               5.0               2.67   \n",
       "4249                 9.3              16.0               2.51   \n",
       "\n",
       "      number_customer_service_calls churn  \n",
       "0                               1.0    no  \n",
       "1                               0.0    no  \n",
       "2                               2.0    no  \n",
       "3                               3.0    no  \n",
       "4                               3.0    no  \n",
       "...                             ...   ...  \n",
       "4245                            0.0    no  \n",
       "4246                            3.0    no  \n",
       "4247                            1.0    no  \n",
       "4248                            2.0    no  \n",
       "4249                            0.0    no  \n",
       "\n",
       "[4250 rows x 20 columns]"
      ]
     },
     "execution_count": 3,
     "metadata": {},
     "output_type": "execute_result"
    }
   ],
   "source": [
    "telco_customer"
   ]
  },
  {
   "cell_type": "markdown",
   "metadata": {
    "id": "0-REIqWZIOjk"
   },
   "source": [
    "### **Preprocessing** <a id=\"head5\"></a>"
   ]
  },
  {
   "cell_type": "code",
   "execution_count": 4,
   "metadata": {
    "id": "mXPWZXYKIGeh"
   },
   "outputs": [],
   "source": [
    "# Encoding categorical data using cat codes\n",
    "for col in telco_customer.columns[telco_customer.dtypes == 'object']:\n",
    "    if col!='churn':\n",
    "        telco_customer[col]=telco_customer[col].astype('category').cat.codes\n",
    "\n",
    "# Fill Null Values of target column\n",
    "telco_customer['churn'] =  telco_customer['churn'].fillna(telco_customer['churn'].mode()[0])\n",
    "\n",
    "# Manual encoding the target variable\n",
    "a={'yes':1,'no':0}\n",
    "telco_customer['churn']=telco_customer['churn'].map(a)"
   ]
  },
  {
   "cell_type": "markdown",
   "metadata": {
    "id": "lnhbFer28H6o"
   },
   "source": [
    "### **Seperate Features & Target Variable** <a id=\"head6\"></a>"
   ]
  },
  {
   "cell_type": "code",
   "execution_count": 5,
   "metadata": {
    "id": "R9E1KjV042ML"
   },
   "outputs": [],
   "source": [
    "X = telco_customer.drop('churn',axis=1)\n",
    "y=telco_customer['churn']"
   ]
  },
  {
   "cell_type": "code",
   "execution_count": 6,
   "metadata": {},
   "outputs": [],
   "source": [
    "cat_cols = X.select_dtypes(include=['int8']).columns.values"
   ]
  },
  {
   "cell_type": "code",
   "execution_count": 7,
   "metadata": {},
   "outputs": [],
   "source": [
    "num_cols = X.select_dtypes(include=['float64']).columns.values"
   ]
  },
  {
   "cell_type": "markdown",
   "metadata": {
    "id": "lB8dCPma8OPO"
   },
   "source": [
    "### **Train Test Split**  <a id=\"head7\"></a>"
   ]
  },
  {
   "cell_type": "code",
   "execution_count": 8,
   "metadata": {
    "id": "vecoK_Db42tn"
   },
   "outputs": [],
   "source": [
    "X_train, X_test, y_train, y_test = train_test_split(X, y, test_size=0.2, random_state=17)"
   ]
  },
  {
   "cell_type": "markdown",
   "metadata": {},
   "source": [
    "## Feature Engineering pipeline"
   ]
  },
  {
   "cell_type": "code",
   "execution_count": 9,
   "metadata": {
    "id": "x_mbLpv35ANk"
   },
   "outputs": [],
   "source": [
    "# Imputation Transformer to fill null values\n",
    "fill_null_col = ColumnTransformer([\n",
    "        ('FillCat',SimpleImputer(strategy='most_frequent'),cat_cols),\n",
    "        ('FillNumeric',SimpleImputer(strategy='median'),num_cols),\n",
    "    ],remainder='passthrough')\n",
    "\n",
    "# Scaling\n",
    "scale_col = ColumnTransformer([\n",
    "    ('scale', StandardScaler(),slice(5,18))\n",
    "])\n",
    "\n",
    "# Principal Component Analysis\n",
    "pca_col = ColumnTransformer([\n",
    "    ('PCA', PCA(n_components=10),slice(0,18))\n",
    "])\n",
    "\n",
    "# # Model\n",
    "logistic=LogisticRegression()\n",
    "random = RandomForestClassifier()\n",
    "svm=SVC(kernel ='rbf',probability=True)"
   ]
  },
  {
   "cell_type": "markdown",
   "metadata": {
    "id": "wBtXY2sfE5Nd"
   },
   "source": [
    "### **Model Pipeline** <a id=\"head9\"></a>"
   ]
  },
  {
   "cell_type": "code",
   "execution_count": 10,
   "metadata": {
    "colab": {
     "base_uri": "https://localhost:8080/"
    },
    "id": "Dt8EIgFa-Ske",
    "outputId": "a51333fa-92c3-433e-f08f-c1b7747e1917"
   },
   "outputs": [],
   "source": [
    "pipeline_model1 = Pipeline([('fill_null_col', fill_null_col),\n",
    "                 ('scale_col', scale_col),\n",
    "                 ('pca_col', pca_col),\n",
    "                 ('classifier1', logistic)])\n",
    "\n",
    "pipeline_model2 = Pipeline([('fill_null_col', fill_null_col),\n",
    "                 ('scale_col', scale_col),\n",
    "                 ('pca_col', pca_col),\n",
    "                 ('classifier2', random)])\n",
    "\n",
    "pipeline_model3 = Pipeline([('fill_null_col', fill_null_col),\n",
    "                 ('scale_col', scale_col),\n",
    "                 ('pca_col', pca_col),\n",
    "                 ('classifier3', svm)])"
   ]
  },
  {
   "cell_type": "code",
   "execution_count": 11,
   "metadata": {},
   "outputs": [],
   "source": [
    "pipelines=[pipeline_model1,pipeline_model2,pipeline_model3]"
   ]
  },
  {
   "cell_type": "code",
   "execution_count": 12,
   "metadata": {},
   "outputs": [],
   "source": [
    "best_accuracy=0.0\n",
    "best_classifier=0\n",
    "best_pipeline=\"\""
   ]
  },
  {
   "cell_type": "code",
   "execution_count": 13,
   "metadata": {},
   "outputs": [],
   "source": [
    "pipe_dict={0:'Logistic Regression',1:'Random Forest',2:'SVM'}\n",
    "\n",
    "# Fitting pipelines\n",
    "for pipe in pipelines:\n",
    "    pipe.fit(X_train,y_train)"
   ]
  },
  {
   "cell_type": "code",
   "execution_count": 14,
   "metadata": {},
   "outputs": [
    {
     "name": "stdout",
     "output_type": "stream",
     "text": [
      "Logistic Regression Test Accuracy : 0.8552941176470589\n",
      "Random Forest Test Accuracy : 0.8776470588235294\n",
      "SVM Test Accuracy : 0.8917647058823529\n"
     ]
    }
   ],
   "source": [
    "for i,model in enumerate(pipelines):\n",
    "    print(\"{} Test Accuracy : {}\".format(pipe_dict[i],model.score(X_test,y_test)))"
   ]
  },
  {
   "cell_type": "code",
   "execution_count": 15,
   "metadata": {},
   "outputs": [
    {
     "name": "stdout",
     "output_type": "stream",
     "text": [
      "\n",
      "Logistic Regression Confusion Matrix :\n",
      " [[724   0]\n",
      " [123   3]]\n",
      "\n",
      "Logistic Regression Classification Report :\n",
      "               precision    recall  f1-score   support\n",
      "\n",
      "           0       0.85      1.00      0.92       724\n",
      "           1       1.00      0.02      0.05       126\n",
      "\n",
      "    accuracy                           0.86       850\n",
      "   macro avg       0.93      0.51      0.48       850\n",
      "weighted avg       0.88      0.86      0.79       850\n",
      "\n",
      "\n",
      "Random Forest Confusion Matrix :\n",
      " [[717   7]\n",
      " [ 97  29]]\n",
      "\n",
      "Random Forest Classification Report :\n",
      "               precision    recall  f1-score   support\n",
      "\n",
      "           0       0.88      0.99      0.93       724\n",
      "           1       0.81      0.23      0.36       126\n",
      "\n",
      "    accuracy                           0.88       850\n",
      "   macro avg       0.84      0.61      0.65       850\n",
      "weighted avg       0.87      0.88      0.85       850\n",
      "\n",
      "\n",
      "SVM Confusion Matrix :\n",
      " [[720   4]\n",
      " [ 88  38]]\n",
      "\n",
      "SVM Classification Report :\n",
      "               precision    recall  f1-score   support\n",
      "\n",
      "           0       0.89      0.99      0.94       724\n",
      "           1       0.90      0.30      0.45       126\n",
      "\n",
      "    accuracy                           0.89       850\n",
      "   macro avg       0.90      0.65      0.70       850\n",
      "weighted avg       0.89      0.89      0.87       850\n",
      "\n"
     ]
    }
   ],
   "source": [
    "for i,model in enumerate(pipelines):\n",
    "    pred=model.predict(X_test)\n",
    "    print(\"\\n{} Confusion Matrix :\\n {}\".format(pipe_dict[i],confusion_matrix(y_test, pred)))\n",
    "    print(\"\\n{} Classification Report :\\n {}\".format(pipe_dict[i],classification_report(y_test,pred)))"
   ]
  },
  {
   "cell_type": "markdown",
   "metadata": {},
   "source": [
    "### Precision Recall Curve of all models"
   ]
  },
  {
   "cell_type": "code",
   "execution_count": 16,
   "metadata": {},
   "outputs": [],
   "source": [
    "def precision_recall_curve_plots(p,r,n,y_test):\n",
    "    fig, ax = plt.subplots(figsize=(6,6))\n",
    "    ax.plot(r, p, label=n)\n",
    "    baseline = len(y_test[y_test==1]) / len(y_test)\n",
    "    ax.plot([0, 1], [baseline, baseline], linestyle='--', label='Baseline')\n",
    "    ax.set_xlabel('Recall')\n",
    "    ax.set_ylabel('Precision')\n",
    "    ax.legend(loc='center left');"
   ]
  },
  {
   "cell_type": "code",
   "execution_count": 17,
   "metadata": {},
   "outputs": [
    {
     "data": {
      "image/png": "[encoded data removed]",
      "text/plain": [
       "<Figure size 432x432 with 1 Axes>"
      ]
     },
     "metadata": {
      "needs_background": "light"
     },
     "output_type": "display_data"
    }
   ],
   "source": [
    "# Precision Recall Curve For Logistic Regression\n",
    "probs = pipeline_model1.predict_proba(X_test)[:, 1]\n",
    "precision, recall, thresholds = precision_recall_curve(y_test, probs)\n",
    "name=\"Logisitic Regression\"\n",
    "precision_recall_curve_plots(precision,recall,name,y_test)"
   ]
  },
  {
   "cell_type": "code",
   "execution_count": 18,
   "metadata": {},
   "outputs": [
    {
     "data": {
      "image/png": "[encoded data removed]",
      "text/plain": [
       "<Figure size 432x432 with 1 Axes>"
      ]
     },
     "metadata": {
      "needs_background": "light"
     },
     "output_type": "display_data"
    }
   ],
   "source": [
    "# Precision Recall Curve For Random Forest\n",
    "probs = pipeline_model2.predict_proba(X_test)[:, 1]\n",
    "precision, recall, thresholds = precision_recall_curve(y_test, probs)\n",
    "name=\"Random Forest\"\n",
    "precision_recall_curve_plots(precision,recall,name,y_test)"
   ]
  },
  {
   "cell_type": "code",
   "execution_count": 19,
   "metadata": {},
   "outputs": [
    {
     "data": {
      "image/png": "[encoded data removed]",
      "text/plain": [
       "<Figure size 432x432 with 1 Axes>"
      ]
     },
     "metadata": {
      "needs_background": "light"
     },
     "output_type": "display_data"
    }
   ],
   "source": [
    "# Precision Recall Curve For SVM\n",
    "probs = pipeline_model3.predict_proba(X_test)[:, 1]\n",
    "precision, recall, thresholds = precision_recall_curve(y_test, probs)\n",
    "name=\"SVM\"\n",
    "precision_recall_curve_plots(precision,recall,name,y_test)"
   ]
  },
  {
   "cell_type": "markdown",
   "metadata": {},
   "source": [
    "### ROC Curve"
   ]
  },
  {
   "cell_type": "code",
   "execution_count": 20,
   "metadata": {},
   "outputs": [],
   "source": [
    "probs = pipeline_model1.predict_proba(X_test)[:, 1]\n",
    "fpr1, tpr1, thresh1 = roc_curve(y_test, probs)"
   ]
  },
  {
   "cell_type": "code",
   "execution_count": 21,
   "metadata": {},
   "outputs": [],
   "source": [
    "probs = pipeline_model2.predict_proba(X_test)[:, 1]\n",
    "fpr2, tpr2, thresh2 = roc_curve(y_test, probs)"
   ]
  },
  {
   "cell_type": "code",
   "execution_count": 22,
   "metadata": {},
   "outputs": [],
   "source": [
    "probs = pipeline_model3.predict_proba(X_test)[:, 1]\n",
    "fpr3, tpr3, thresh3 = roc_curve(y_test, probs)"
   ]
  },
  {
   "cell_type": "code",
   "execution_count": 23,
   "metadata": {},
   "outputs": [
    {
     "data": {
      "image/png": "[encoded data removed]",
      "text/plain": [
       "<Figure size 432x288 with 1 Axes>"
      ]
     },
     "metadata": {
      "needs_background": "light"
     },
     "output_type": "display_data"
    }
   ],
   "source": [
    "random_probs = [0 for i in range(len(y_test))]\n",
    "p_fpr, p_tpr, _ = roc_curve(y_test, random_probs, pos_label=1)\n",
    "\n",
    " # plot roc curves\n",
    "plt.plot(fpr1, tpr1, linestyle='--',color='orange', label='Logistic Regression')\n",
    "plt.plot(fpr2, tpr2, linestyle='--',color='green', label='Random Forest')\n",
    "plt.plot(fpr3, tpr3, linestyle='--',color='red', label='SVM')\n",
    "plt.plot(p_fpr, p_tpr, linestyle='--', color='blue')\n",
    "# title\n",
    "plt.title('ROC curve')\n",
    "# x label\n",
    "plt.xlabel('False Positive Rate')\n",
    "# y label\n",
    "plt.ylabel('True Positive rate')\n",
    "\n",
    "plt.legend(loc='best')\n",
    "plt.show();"
   ]
  },
  {
   "cell_type": "code",
   "execution_count": 24,
   "metadata": {},
   "outputs": [
    {
     "name": "stdout",
     "output_type": "stream",
     "text": [
      "Classifier with the best accuracy:SVM\n"
     ]
    }
   ],
   "source": [
    "for i,model in enumerate(pipelines):\n",
    "    if model.score(X_test,y_test)>best_accuracy:\n",
    "        best_accuracy=model.score(X_test,y_test)\n",
    "        best_pipeline=model\n",
    "        best_classifier=i\n",
    "print('Classifier with the best accuracy:{}'.format(pipe_dict[best_classifier]))"
   ]
  },
  {
   "cell_type": "markdown",
   "metadata": {
    "id": "glgVxcT-FxvP"
   },
   "source": [
    "### **Best Hyperparameters for Models Using GridSearchCV using a pipeline** \n",
    "<a id=\"head10\"></a>"
   ]
  },
  {
   "cell_type": "code",
   "execution_count": 25,
   "metadata": {
    "colab": {
     "base_uri": "https://localhost:8080/"
    },
    "id": "lZV9dnWjCqcH",
    "outputId": "10b40651-c2a0-4c53-f9a5-c63d078f97a6"
   },
   "outputs": [],
   "source": [
    "params = [{ 'classifier1__solver' : ['newton-cg', 'lbfgs', 'liblinear'],\n",
    "            'classifier1__penalty': ['l2','l1'] ,\n",
    "            'classifier1__C' :np.logspace(-4,4,20),\n",
    "          }]\n",
    "hypertuned_model1 = GridSearchCV(estimator = pipeline_model1,\n",
    "                           param_grid = params,\n",
    "                           cv = 10 ,verbose = 1, n_jobs=-1)\n",
    "\n",
    "hypertuned_model1.fit(X_train,y_train)\n",
    "hypertuned_model1.best_params_"
   ]
  },
  {
   "cell_type": "code",
   "execution_count": 26,
   "metadata": {},
   "outputs": [
    {
     "data": {
      "text/plain": [
       "Pipeline(steps=[('fill_null_col',\n",
       "                 ColumnTransformer(remainder='passthrough',\n",
       "                                   transformers=[('FillCat',\n",
       "                                                  SimpleImputer(strategy='most_frequent'),\n",
       "                                                  array(['state', 'area_code', 'international_plan', 'voice_mail_plan'],\n",
       "      dtype=object)),\n",
       "                                                 ('FillNumeric',\n",
       "                                                  SimpleImputer(strategy='median'),\n",
       "                                                  array(['account_length', 'number_vmail_messages', 'total_day_minutes',\n",
       "       'total_day_c...\n",
       "       'total_night_calls', 'total_night_charge', 'total_intl_minutes',\n",
       "       'total_intl_calls', 'total_intl_charge',\n",
       "       'number_customer_service_calls'], dtype=object))])),\n",
       "                ('scale_col',\n",
       "                 ColumnTransformer(transformers=[('scale', StandardScaler(),\n",
       "                                                  slice(5, 18, None))])),\n",
       "                ('pca_col',\n",
       "                 ColumnTransformer(transformers=[('PCA', PCA(n_components=10),\n",
       "                                                  slice(0, 18, None))])),\n",
       "                ('classifier1',\n",
       "                 LogisticRegression(C=0.0001, solver='liblinear'))])"
      ]
     },
     "execution_count": 26,
     "metadata": {},
     "output_type": "execute_result"
    }
   ],
   "source": [
    "randomized_cv1 = Pipeline([('fill_null_col', fill_null_col),\n",
    "                 ('scale_col', scale_col),\n",
    "                 ('pca_col', pca_col),\n",
    "                 ('classifier1', LogisticRegression(solver='liblinear',penalty='l2',C=0.0001))])\n",
    "\n",
    "randomized_cv1.fit(X_train,y_train)"
   ]
  },
  {
   "cell_type": "code",
   "execution_count": 27,
   "metadata": {},
   "outputs": [],
   "source": [
    "params = [{\"classifier2__n_estimators\": range(100, 501, 100),\n",
    "           \"classifier2__max_depth\":range(10,30,10),\n",
    "           \"classifier2__min_samples_leaf\":[1, 2, 4],\n",
    "           \"classifier2__min_samples_split\": [2, 5, 10],\n",
    "          }]\n",
    "                 \n",
    "hypertuned_model2 = GridSearchCV(estimator = pipeline_model2,\n",
    "                           param_grid = params,\n",
    "                           cv = 10 ,verbose = 1, n_jobs=-1)\n",
    "\n",
    "hypertuned_model2.fit(X_train,y_train)\n",
    "hypertuned_model2.best_params_"
   ]
  },
  {
   "cell_type": "code",
   "execution_count": 28,
   "metadata": {},
   "outputs": [
    {
     "data": {
      "text/plain": [
       "Pipeline(steps=[('fill_null_col',\n",
       "                 ColumnTransformer(remainder='passthrough',\n",
       "                                   transformers=[('FillCat',\n",
       "                                                  SimpleImputer(strategy='most_frequent'),\n",
       "                                                  array(['state', 'area_code', 'international_plan', 'voice_mail_plan'],\n",
       "      dtype=object)),\n",
       "                                                 ('FillNumeric',\n",
       "                                                  SimpleImputer(strategy='median'),\n",
       "                                                  array(['account_length', 'number_vmail_messages', 'total_day_minutes',\n",
       "       'total_day_c...\n",
       "       'number_customer_service_calls'], dtype=object))])),\n",
       "                ('scale_col',\n",
       "                 ColumnTransformer(transformers=[('scale', StandardScaler(),\n",
       "                                                  slice(5, 18, None))])),\n",
       "                ('pca_col',\n",
       "                 ColumnTransformer(transformers=[('PCA', PCA(n_components=10),\n",
       "                                                  slice(0, 18, None))])),\n",
       "                ('classifier2',\n",
       "                 RandomForestClassifier(class_weight='balanced', max_depth=20,\n",
       "                                        min_samples_split=5,\n",
       "                                        n_estimators=400))])"
      ]
     },
     "execution_count": 28,
     "metadata": {},
     "output_type": "execute_result"
    }
   ],
   "source": [
    "randomized_cv2= Pipeline([('fill_null_col', fill_null_col),\n",
    "                 ('scale_col', scale_col),\n",
    "                 ('pca_col', pca_col),\n",
    "                 ('classifier2', RandomForestClassifier(max_depth=20,min_samples_leaf=1,min_samples_split=5,n_estimators=400,class_weight='balanced'))])\n",
    "\n",
    "randomized_cv2.fit(X_train,y_train)"
   ]
  },
  {
   "cell_type": "code",
   "execution_count": 29,
   "metadata": {},
   "outputs": [],
   "source": [
    "params = [{ 'classifier3__C' : [1, 10, 100, 1000],\n",
    "          'classifier3__gamma': [1e-1, 1e-4] }]\n",
    "\n",
    "hypertuned_model3 = GridSearchCV(estimator = pipeline_model3,\n",
    "                           param_grid = params,\n",
    "                           cv = 10 ,verbose = 1, n_jobs=-1)\n",
    "\n",
    "hypertuned_model3.fit(X_train,y_train)\n",
    "hypertuned_model3.best_params_"
   ]
  },
  {
   "cell_type": "code",
   "execution_count": 30,
   "metadata": {},
   "outputs": [
    {
     "data": {
      "text/plain": [
       "Pipeline(steps=[('fill_null_col',\n",
       "                 ColumnTransformer(remainder='passthrough',\n",
       "                                   transformers=[('FillCat',\n",
       "                                                  SimpleImputer(strategy='most_frequent'),\n",
       "                                                  array(['state', 'area_code', 'international_plan', 'voice_mail_plan'],\n",
       "      dtype=object)),\n",
       "                                                 ('FillNumeric',\n",
       "                                                  SimpleImputer(strategy='median'),\n",
       "                                                  array(['account_length', 'number_vmail_messages', 'total_day_minutes',\n",
       "       'total_day_c...\n",
       "       'total_night_calls', 'total_night_charge', 'total_intl_minutes',\n",
       "       'total_intl_calls', 'total_intl_charge',\n",
       "       'number_customer_service_calls'], dtype=object))])),\n",
       "                ('scale_col',\n",
       "                 ColumnTransformer(transformers=[('scale', StandardScaler(),\n",
       "                                                  slice(5, 18, None))])),\n",
       "                ('pca_col',\n",
       "                 ColumnTransformer(transformers=[('PCA', PCA(n_components=10),\n",
       "                                                  slice(0, 18, None))])),\n",
       "                ('classifier3', SVC(C=1, gamma=0.1, probability=True))])"
      ]
     },
     "execution_count": 30,
     "metadata": {},
     "output_type": "execute_result"
    }
   ],
   "source": [
    "randomized_cv3 = Pipeline([('fill_null_col', fill_null_col),\n",
    "                 ('scale_col', scale_col),\n",
    "                 ('pca_col', pca_col),\n",
    "                 ('classifier3', SVC(kernel ='rbf',probability=True,C=1,gamma=0.1))])\n",
    "\n",
    "randomized_cv3.fit(X_train,y_train)"
   ]
  },
  {
   "cell_type": "code",
   "execution_count": 31,
   "metadata": {},
   "outputs": [],
   "source": [
    "loaded_model1=randomized_cv1\n",
    "loaded_model2=randomized_cv2"
   ]
  },
  {
   "cell_type": "markdown",
   "metadata": {},
   "source": [
    "### Saving SVM Model"
   ]
  },
  {
   "cell_type": "code",
   "execution_count": 32,
   "metadata": {},
   "outputs": [],
   "source": [
    "filename = 'modelv2.pkl'\n",
    "pickle.dump(randomized_cv3, open(filename, 'wb'))"
   ]
  },
  {
   "cell_type": "markdown",
   "metadata": {},
   "source": [
    "\n",
    "### Load the model from disk"
   ]
  },
  {
   "cell_type": "code",
   "execution_count": 33,
   "metadata": {},
   "outputs": [
    {
     "name": "stdout",
     "output_type": "stream",
     "text": [
      "0.8941176470588236\n"
     ]
    }
   ],
   "source": [
    "filename = 'modelv2.pkl'\n",
    "loaded_model3 = pickle.load(open(filename, 'rb'))\n",
    "result = loaded_model3.score(X_test, y_test)\n",
    "print(result)"
   ]
  },
  {
   "cell_type": "markdown",
   "metadata": {},
   "source": [
    "### Model Prediction After Hypertuning"
   ]
  },
  {
   "cell_type": "code",
   "execution_count": 34,
   "metadata": {},
   "outputs": [],
   "source": [
    "def model_predict(loaded_model,X_test,y_test):\n",
    "    y_pred_proba = loaded_model.predict_proba(X_test)\n",
    "    y_pred= loaded_model.predict(X_test)\n",
    "    print(\"Predcition Probability\\n\\n\",y_pred_proba)\n",
    "    print(\"\\nPredcition\\n\\n\",y_pred)\n",
    "    acc = accuracy_score(y_test, y_pred)\n",
    "    print(\"\\nAccuracy=\",acc)\n",
    "    print(\"\\nClassification Report\\n\\n\",classification_report(y_test,y_pred))\n",
    "    print(\"\\nConfusion Matrix\\n\",confusion_matrix(y_test, y_pred))"
   ]
  },
  {
   "cell_type": "code",
   "execution_count": 35,
   "metadata": {},
   "outputs": [
    {
     "name": "stdout",
     "output_type": "stream",
     "text": [
      "Predcition Probability\n",
      "\n",
      " [[0.53279674 0.46720326]\n",
      " [0.52784266 0.47215734]\n",
      " [0.52209455 0.47790545]\n",
      " ...\n",
      " [0.51402911 0.48597089]\n",
      " [0.54563261 0.45436739]\n",
      " [0.51896569 0.48103431]]\n",
      "\n",
      "Predcition\n",
      "\n",
      " [0 0 0 0 0 0 0 0 0 0 0 0 0 0 0 0 0 0 0 0 0 0 0 0 0 0 0 0 0 0 0 0 0 0 0 0 0\n",
      " 0 0 0 0 0 0 0 0 0 0 0 0 0 0 0 0 1 0 0 0 0 0 0 0 0 0 0 0 0 0 0 0 0 0 0 0 0\n",
      " 0 0 0 0 0 0 0 0 0 0 0 0 0 0 0 0 0 0 0 0 0 0 0 0 0 0 0 0 0 0 0 0 0 0 0 0 0\n",
      " 0 0 0 1 0 0 0 0 0 0 0 0 0 0 0 0 0 0 0 0 0 0 0 0 0 0 0 0 0 0 0 0 0 0 0 0 0\n",
      " 0 0 0 0 0 0 0 0 0 0 0 0 0 0 0 0 0 0 0 0 0 0 0 0 0 0 0 0 0 0 0 0 0 0 0 0 0\n",
      " 0 0 0 0 0 0 0 0 0 0 0 0 0 0 0 0 0 0 0 0 0 0 0 0 0 0 0 0 0 0 0 0 0 0 0 0 0\n",
      " 0 0 0 0 0 0 0 0 0 0 0 0 0 0 0 0 0 0 0 0 0 0 0 0 0 0 0 0 0 0 0 0 0 0 0 0 0\n",
      " 0 0 0 0 0 0 0 0 0 0 0 0 0 0 0 0 0 0 0 0 0 0 0 0 0 0 0 0 0 0 0 0 1 0 0 0 0\n",
      " 0 0 0 0 0 0 0 1 0 0 0 0 0 0 0 0 0 0 0 0 0 0 0 0 0 0 0 0 0 0 0 0 0 0 0 0 0\n",
      " 0 0 0 0 0 0 0 0 0 0 0 0 0 0 0 0 0 0 0 0 0 0 0 0 0 0 0 0 0 0 0 0 0 0 1 0 0\n",
      " 0 0 0 0 0 0 0 0 0 0 0 0 0 0 0 0 0 0 0 0 0 0 0 0 0 0 0 0 0 0 0 0 0 0 0 0 0\n",
      " 0 0 0 0 0 0 0 0 0 0 0 0 0 0 0 0 0 0 0 0 0 0 0 0 0 0 0 0 0 0 0 0 0 1 0 0 0\n",
      " 0 0 0 0 0 0 0 0 0 0 0 0 0 0 0 0 0 0 0 0 0 0 0 0 0 0 0 0 0 0 0 0 0 0 0 0 0\n",
      " 0 0 0 0 0 0 0 0 0 0 0 0 0 0 0 0 0 0 0 0 0 0 0 0 0 0 0 0 0 0 0 0 0 0 0 0 0\n",
      " 0 0 0 0 0 0 0 0 0 0 0 0 0 0 0 0 0 0 0 0 0 0 0 0 0 0 0 0 0 1 0 0 0 0 0 0 0\n",
      " 0 0 0 0 0 0 0 0 0 0 0 0 0 0 0 0 0 0 0 0 0 0 0 0 0 0 0 0 0 0 0 0 0 0 0 0 0\n",
      " 0 0 0 0 0 0 0 0 0 0 0 0 0 0 0 0 0 0 0 0 0 0 0 0 0 0 0 0 0 0 0 0 0 0 0 0 0\n",
      " 0 0 0 0 0 0 0 0 0 0 0 0 0 0 0 0 0 0 0 0 0 0 0 0 0 0 0 0 0 0 0 0 0 0 0 0 0\n",
      " 0 0 0 0 0 0 0 0 0 0 0 0 0 0 0 0 0 0 0 0 0 0 0 0 0 0 0 0 0 0 0 0 0 0 0 0 0\n",
      " 0 0 0 0 0 0 0 0 0 0 0 0 0 0 0 0 0 0 0 0 0 0 0 0 0 0 0 0 0 0 0 0 0 0 0 0 0\n",
      " 0 0 0 0 0 0 0 0 0 0 0 0 0 0 0 0 0 0 0 0 0 0 0 0 0 0 0 0 0 0 0 0 0 0 0 0 0\n",
      " 0 0 0 0 0 0 0 0 0 0 0 0 0 0 0 0 0 0 0 0 0 0 0 0 0 0 0 0 0 0 0 0 0 0 0 0 0\n",
      " 0 0 0 0 0 0 0 0 0 0 0 0 0 0 0 0 0 0 0 0 0 0 0 0 0 0 0 0 0 0 0 0 0 0 0 0]\n",
      "\n",
      "Accuracy= 0.86\n",
      "\n",
      "Classification Report\n",
      "\n",
      "               precision    recall  f1-score   support\n",
      "\n",
      "           0       0.86      1.00      0.92       724\n",
      "           1       1.00      0.06      0.11       126\n",
      "\n",
      "    accuracy                           0.86       850\n",
      "   macro avg       0.93      0.53      0.51       850\n",
      "weighted avg       0.88      0.86      0.80       850\n",
      "\n",
      "\n",
      "Confusion Matrix\n",
      " [[724   0]\n",
      " [119   7]]\n"
     ]
    }
   ],
   "source": [
    "# Logistic Regression\n",
    "model_predict(loaded_model1,X_test,y_test)"
   ]
  },
  {
   "cell_type": "code",
   "execution_count": 36,
   "metadata": {},
   "outputs": [
    {
     "name": "stdout",
     "output_type": "stream",
     "text": [
      "Predcition Probability\n",
      "\n",
      " [[0.96123599 0.03876401]\n",
      " [0.88229601 0.11770399]\n",
      " [0.85031983 0.14968017]\n",
      " ...\n",
      " [0.760305   0.239695  ]\n",
      " [0.8863537  0.1136463 ]\n",
      " [0.89670761 0.10329239]]\n",
      "\n",
      "Predcition\n",
      "\n",
      " [0 0 0 0 0 0 0 0 0 0 0 0 0 0 0 0 0 0 0 0 0 0 0 0 0 0 0 0 0 0 0 0 0 0 0 0 0\n",
      " 0 0 0 0 1 0 0 0 0 0 0 0 0 0 0 0 1 0 0 0 0 0 0 0 0 0 0 0 0 0 0 0 0 0 0 0 1\n",
      " 0 0 0 0 0 0 0 0 0 0 0 1 0 0 0 0 0 0 0 0 0 0 0 0 0 0 0 0 0 0 0 0 0 0 0 0 0\n",
      " 0 0 1 1 0 0 0 0 0 0 0 0 0 0 0 0 0 0 0 0 0 0 0 0 0 0 0 0 0 0 0 0 0 0 0 0 0\n",
      " 0 0 0 0 0 0 0 0 0 0 0 0 0 0 0 0 0 0 0 0 0 0 1 0 1 0 0 0 0 0 0 0 0 0 1 0 1\n",
      " 0 0 0 0 1 0 0 0 1 0 0 0 0 0 1 0 0 0 0 1 0 0 0 0 0 0 0 0 0 0 0 0 0 0 0 0 0\n",
      " 0 0 0 0 0 0 0 0 0 0 0 1 0 0 0 0 0 0 0 0 0 0 0 0 0 0 0 0 0 0 0 0 0 0 0 0 0\n",
      " 0 0 0 0 0 0 0 0 0 0 0 0 0 1 0 0 0 0 0 0 0 1 0 0 0 1 0 0 0 0 0 0 1 0 0 0 0\n",
      " 0 0 0 0 0 0 0 1 0 0 0 0 0 0 0 0 0 0 0 0 0 0 0 0 0 0 0 0 0 0 0 1 0 0 0 0 0\n",
      " 0 0 0 0 0 0 0 0 0 0 0 0 0 0 0 0 1 0 0 0 0 0 0 1 0 0 0 0 0 0 0 0 0 0 1 0 0\n",
      " 0 0 0 0 0 0 0 0 0 0 0 0 0 0 0 0 0 0 0 0 0 0 0 0 0 0 0 0 0 0 0 0 0 0 0 1 0\n",
      " 0 0 0 0 0 0 0 0 0 1 0 0 0 0 0 0 0 0 0 0 0 1 0 0 0 0 0 0 0 0 0 0 0 1 0 0 0\n",
      " 0 0 0 0 0 1 0 0 0 0 0 0 0 0 0 0 0 0 0 0 0 0 0 0 0 1 0 0 0 0 0 0 0 0 0 0 0\n",
      " 0 0 0 0 0 0 0 0 0 0 0 0 0 0 0 0 0 0 0 0 0 0 0 0 0 0 0 0 0 0 0 0 0 0 0 0 0\n",
      " 0 0 0 0 0 0 0 0 0 0 0 0 0 0 0 0 0 0 0 0 0 0 0 0 0 0 0 0 0 1 0 0 0 0 0 0 0\n",
      " 0 0 0 0 0 0 0 0 0 0 0 0 0 0 0 0 0 0 0 0 0 0 0 0 0 0 1 0 0 0 0 0 0 0 0 0 1\n",
      " 0 0 0 0 0 0 0 0 0 0 0 0 0 0 0 0 0 0 0 0 0 0 0 0 0 0 0 0 0 0 0 0 0 0 0 0 0\n",
      " 0 0 0 0 0 0 0 0 0 0 0 0 0 0 0 0 0 0 0 0 0 0 0 0 0 1 0 0 0 0 0 0 0 0 0 0 0\n",
      " 0 0 0 0 0 0 0 0 0 0 0 0 0 0 0 0 0 0 0 0 0 0 0 0 0 0 0 0 0 0 0 0 0 0 0 0 0\n",
      " 0 0 0 0 0 0 0 0 0 0 0 0 0 0 0 0 0 0 0 0 0 0 0 0 0 0 0 0 0 0 0 0 0 0 0 0 0\n",
      " 0 0 0 0 0 0 0 0 0 0 0 0 0 0 0 0 0 0 0 0 0 0 0 0 0 0 0 0 0 0 0 0 0 0 0 0 0\n",
      " 0 0 0 0 0 0 0 0 0 0 0 0 0 0 0 0 0 0 0 0 0 0 0 0 0 0 0 1 0 0 0 0 0 0 0 0 0\n",
      " 0 0 0 0 0 0 0 0 0 0 0 0 0 0 0 0 0 0 0 0 0 0 0 0 0 0 0 0 0 0 0 0 0 0 0 0]\n",
      "\n",
      "Accuracy= 0.8788235294117647\n",
      "\n",
      "Classification Report\n",
      "\n",
      "               precision    recall  f1-score   support\n",
      "\n",
      "           0       0.88      0.99      0.93       724\n",
      "           1       0.83      0.23      0.36       126\n",
      "\n",
      "    accuracy                           0.88       850\n",
      "   macro avg       0.85      0.61      0.65       850\n",
      "weighted avg       0.87      0.88      0.85       850\n",
      "\n",
      "\n",
      "Confusion Matrix\n",
      " [[718   6]\n",
      " [ 97  29]]\n"
     ]
    }
   ],
   "source": [
    "# Random Forest\n",
    "model_predict(loaded_model2,X_test,y_test)"
   ]
  },
  {
   "cell_type": "code",
   "execution_count": 37,
   "metadata": {},
   "outputs": [
    {
     "name": "stdout",
     "output_type": "stream",
     "text": [
      "Predcition Probability\n",
      "\n",
      " [[0.97274449 0.02725551]\n",
      " [0.90641831 0.09358169]\n",
      " [0.86145532 0.13854468]\n",
      " ...\n",
      " [0.71868949 0.28131051]\n",
      " [0.89989547 0.10010453]\n",
      " [0.9081071  0.0918929 ]]\n",
      "\n",
      "Predcition\n",
      "\n",
      " [0 0 0 0 0 0 0 0 0 0 0 0 0 0 0 0 0 0 0 0 0 0 0 0 0 0 0 0 0 0 0 0 0 0 0 0 1\n",
      " 0 1 0 0 1 0 0 0 0 0 0 0 0 0 0 0 1 0 0 0 0 0 0 0 0 0 0 0 0 0 0 0 0 0 1 0 1\n",
      " 0 0 0 0 0 0 0 0 0 0 0 1 0 0 0 0 0 0 0 0 0 0 0 0 0 0 0 0 0 0 0 0 0 0 0 0 0\n",
      " 0 0 1 1 0 0 0 0 0 0 0 0 0 0 0 0 0 0 0 0 0 0 0 0 0 0 0 0 0 0 0 0 0 0 0 0 0\n",
      " 0 0 0 1 0 1 0 0 0 0 0 0 0 0 0 0 0 0 0 0 0 0 0 0 1 0 0 0 0 0 0 0 0 0 0 0 0\n",
      " 0 0 0 0 1 0 0 0 1 0 0 0 0 0 1 0 0 0 0 0 0 0 0 0 0 0 0 0 0 0 0 0 0 0 0 0 0\n",
      " 0 0 0 0 0 0 0 0 0 0 0 1 0 0 0 0 0 0 0 0 0 0 0 0 0 0 0 0 0 0 0 0 1 0 0 0 0\n",
      " 0 0 0 0 0 0 0 0 0 0 0 0 0 1 0 0 0 0 0 0 0 1 0 0 0 1 0 0 0 0 0 0 1 0 0 0 0\n",
      " 0 1 0 0 0 0 0 1 0 0 0 0 0 0 0 0 0 0 0 0 0 0 0 0 0 0 0 0 0 0 0 1 0 0 0 0 0\n",
      " 0 0 0 0 0 0 0 0 0 0 0 0 0 0 0 0 1 0 0 0 0 0 0 1 0 0 0 0 0 0 0 0 0 0 1 0 0\n",
      " 0 0 0 0 0 0 0 0 0 0 0 0 0 0 0 0 0 0 0 0 0 0 0 0 0 0 0 0 0 0 0 0 0 0 0 1 0\n",
      " 0 0 0 0 0 0 0 0 0 0 0 0 0 0 0 0 0 0 0 0 0 0 0 0 0 0 0 0 0 0 0 0 0 1 0 0 0\n",
      " 0 0 0 0 0 1 0 0 0 0 0 0 0 1 1 0 0 0 0 0 0 0 0 0 0 0 0 0 0 0 0 0 0 0 0 0 0\n",
      " 0 0 0 0 0 0 0 0 0 0 0 0 0 0 0 0 0 0 0 0 0 0 0 0 0 0 0 0 0 0 0 0 0 0 0 0 0\n",
      " 0 0 0 0 0 0 0 0 0 0 0 0 0 0 0 0 0 0 0 0 0 0 0 0 0 0 0 0 0 1 0 0 0 0 0 0 0\n",
      " 0 0 0 0 0 0 0 0 0 1 0 0 0 0 0 0 0 0 0 0 0 0 0 0 0 0 1 0 0 0 0 0 0 0 0 0 0\n",
      " 0 0 0 0 0 0 0 1 0 0 0 0 0 0 0 0 0 0 0 0 0 0 0 0 0 0 0 0 0 0 0 0 0 0 0 0 0\n",
      " 0 0 0 0 0 0 0 0 0 0 0 0 0 0 0 0 0 0 0 0 0 0 0 0 0 1 0 0 0 0 0 0 0 0 1 0 0\n",
      " 0 0 0 0 0 0 0 0 0 0 0 0 0 0 0 0 0 0 0 0 0 0 0 1 0 0 0 0 0 0 0 0 0 0 0 0 0\n",
      " 0 0 0 0 0 0 0 0 0 0 0 0 0 0 0 0 0 0 0 0 0 0 0 0 0 0 0 0 0 0 0 0 0 0 0 0 0\n",
      " 0 0 0 1 0 0 1 0 0 0 0 0 0 0 0 0 0 0 0 0 1 0 0 0 0 0 0 0 0 0 0 0 0 0 0 0 0\n",
      " 0 0 0 0 0 0 0 0 0 0 0 0 0 0 0 0 0 0 0 0 0 0 0 0 0 0 0 1 0 0 0 0 0 0 0 0 0\n",
      " 0 0 0 0 0 0 0 0 0 0 1 0 0 0 0 0 0 0 0 0 0 0 0 0 0 0 0 0 0 0 0 0 0 0 0 0]\n",
      "\n",
      "Accuracy= 0.8941176470588236\n",
      "\n",
      "Classification Report\n",
      "\n",
      "               precision    recall  f1-score   support\n",
      "\n",
      "           0       0.89      0.99      0.94       724\n",
      "           1       0.91      0.32      0.47       126\n",
      "\n",
      "    accuracy                           0.89       850\n",
      "   macro avg       0.90      0.66      0.71       850\n",
      "weighted avg       0.90      0.89      0.87       850\n",
      "\n",
      "\n",
      "Confusion Matrix\n",
      " [[720   4]\n",
      " [ 86  40]]\n"
     ]
    }
   ],
   "source": [
    "# SVM\n",
    "model_predict(loaded_model3,X_test,y_test)"
   ]
  },
  {
   "cell_type": "markdown",
   "metadata": {
    "id": "lQtMy8mQ9xct"
   },
   "source": [
    "### **Model Prediction After Thresholding**<a id=\"head11\"></a>"
   ]
  },
  {
   "cell_type": "code",
   "execution_count": 38,
   "metadata": {},
   "outputs": [],
   "source": [
    "def model_predict_with_threshold(loaded_model,X_test,threshold,y_test):\n",
    "    y_pred_proba = loaded_model.predict_proba(X_test)\n",
    "    y_pred= (loaded_model.predict_proba(X_test)[:,1] >= threshold).astype(int)\n",
    "    print(\"Predcition Probability\\n\\n\",y_pred_proba)\n",
    "    print(\"\\nPredcition\\n\\n\",y_pred)\n",
    "    acc = accuracy_score(y_test, y_pred)\n",
    "    print(\"\\nAccuracy=\",acc)\n",
    "    print(\"\\nClassification Report\\n\\n\",classification_report(y_test,y_pred))\n",
    "    print(\"\\nConfusion Matrix\\n\",confusion_matrix(y_test, y_pred))"
   ]
  },
  {
   "cell_type": "code",
   "execution_count": 39,
   "metadata": {},
   "outputs": [],
   "source": [
    "# Logistic Regression"
   ]
  },
  {
   "cell_type": "code",
   "execution_count": 40,
   "metadata": {},
   "outputs": [],
   "source": [
    "pred = loaded_model1.predict_proba(X_test)[:,1]\n",
    "precision, recall, thresholds = precision_recall_curve(y_test, pred)\n",
    "fscore = (2 * precision * recall) / (precision + recall)"
   ]
  },
  {
   "cell_type": "code",
   "execution_count": 41,
   "metadata": {},
   "outputs": [
    {
     "name": "stdout",
     "output_type": "stream",
     "text": [
      "Best Threshold: 0.488 with F-Score: 0.5619\n"
     ]
    }
   ],
   "source": [
    "index = np.argmax(fscore)\n",
    "thresholdOpt = round(thresholds[index], ndigits = 4)\n",
    "fscoreOpt = round(fscore[index], ndigits = 4)\n",
    "print('Best Threshold: {} with F-Score: {}'.format(thresholdOpt, fscoreOpt))"
   ]
  },
  {
   "cell_type": "code",
   "execution_count": 42,
   "metadata": {},
   "outputs": [
    {
     "name": "stdout",
     "output_type": "stream",
     "text": [
      "Predcition Probability\n",
      "\n",
      " [[0.53279674 0.46720326]\n",
      " [0.52784266 0.47215734]\n",
      " [0.52209455 0.47790545]\n",
      " ...\n",
      " [0.51402911 0.48597089]\n",
      " [0.54563261 0.45436739]\n",
      " [0.51896569 0.48103431]]\n",
      "\n",
      "Predcition\n",
      "\n",
      " [0 0 0 0 0 0 0 0 0 0 0 0 0 0 0 0 0 0 0 0 0 0 0 0 0 0 0 0 0 0 0 0 0 0 0 0 1\n",
      " 0 1 0 0 1 0 0 0 0 0 0 0 0 0 0 0 1 0 0 0 0 0 0 0 0 0 0 0 0 0 0 0 0 0 1 1 1\n",
      " 0 0 0 0 0 0 0 0 1 0 0 1 0 0 1 0 0 0 0 0 0 0 0 0 0 0 0 0 0 0 0 0 0 0 0 0 0\n",
      " 0 0 1 1 0 0 0 1 0 0 0 0 0 0 0 0 0 0 0 0 0 1 0 0 0 0 0 0 0 0 0 0 0 0 0 0 0\n",
      " 0 0 0 1 0 1 0 0 0 0 0 0 0 0 1 0 0 0 0 0 0 0 1 0 1 0 0 0 0 0 1 0 0 0 0 0 1\n",
      " 0 0 0 0 1 0 0 1 1 0 0 0 0 0 1 0 0 0 0 0 0 0 0 0 0 0 0 0 0 0 0 0 0 0 0 0 0\n",
      " 0 0 1 0 1 0 0 0 0 0 0 1 0 0 0 0 0 0 0 0 0 0 0 0 0 0 0 0 0 0 0 0 0 0 0 1 0\n",
      " 0 0 0 0 0 0 0 0 0 0 0 0 0 1 1 0 0 0 0 0 0 1 0 0 0 1 0 0 0 0 0 0 1 0 0 0 0\n",
      " 0 1 0 0 0 0 0 1 0 0 0 0 0 0 0 0 0 0 0 0 0 0 0 0 1 0 0 0 0 0 0 1 0 0 0 0 0\n",
      " 0 0 0 0 0 0 0 0 1 0 0 0 0 0 0 0 1 0 1 0 0 0 0 1 1 0 0 0 1 0 0 0 0 0 1 0 0\n",
      " 0 0 0 0 0 0 0 0 0 0 0 0 0 0 0 1 0 0 0 0 0 0 0 0 0 1 0 0 0 1 0 0 0 0 0 1 0\n",
      " 0 1 0 0 0 0 0 0 0 1 0 0 0 0 0 0 0 0 0 0 0 0 0 0 0 0 0 0 1 0 0 0 0 1 0 0 0\n",
      " 1 1 0 0 0 1 0 0 0 0 0 0 0 1 1 0 0 0 0 0 0 0 0 0 0 1 0 0 0 0 0 0 0 0 0 0 1\n",
      " 0 0 0 0 0 0 0 0 0 0 0 0 0 0 0 0 0 0 0 0 0 0 0 0 0 0 0 0 0 0 0 0 0 0 0 0 0\n",
      " 0 0 0 0 0 0 0 0 0 1 0 0 0 1 0 0 0 0 0 0 0 0 0 0 0 0 0 0 0 1 0 0 0 0 0 0 0\n",
      " 0 0 0 0 0 0 0 0 0 1 0 1 0 0 0 0 0 0 0 0 0 0 0 0 0 0 1 0 0 0 0 0 0 0 0 0 0\n",
      " 0 0 0 0 0 0 0 1 0 0 0 0 0 0 0 0 0 0 0 0 0 0 0 0 0 0 0 0 0 0 0 0 1 0 0 0 0\n",
      " 0 0 0 0 0 0 0 0 0 0 0 1 0 0 0 0 0 0 0 0 0 0 0 0 0 1 0 0 0 0 0 0 0 0 1 0 0\n",
      " 0 0 0 0 0 0 0 0 0 0 0 0 0 0 0 0 1 0 0 0 0 0 0 1 0 0 0 0 0 0 0 0 0 0 1 0 0\n",
      " 1 0 0 0 0 0 0 0 0 0 0 0 0 0 0 0 0 0 0 0 0 0 0 0 0 0 0 0 0 0 0 0 0 0 0 0 0\n",
      " 0 0 0 1 0 0 1 0 0 0 1 0 0 0 0 0 0 0 0 0 1 0 0 0 0 0 0 0 0 0 0 0 0 0 0 0 0\n",
      " 0 0 0 0 0 0 0 0 0 0 0 0 0 0 0 0 0 0 0 0 0 0 0 0 0 0 0 1 0 0 0 0 0 1 1 0 0\n",
      " 0 0 0 0 0 0 0 0 0 0 1 0 0 0 0 0 0 0 0 0 0 0 0 0 0 0 0 0 0 0 0 0 0 0 0 0]\n",
      "\n",
      "Accuracy= 0.8905882352941177\n",
      "\n",
      "Classification Report\n",
      "\n",
      "               precision    recall  f1-score   support\n",
      "\n",
      "           0       0.91      0.97      0.94       724\n",
      "           1       0.70      0.46      0.56       126\n",
      "\n",
      "    accuracy                           0.89       850\n",
      "   macro avg       0.81      0.71      0.75       850\n",
      "weighted avg       0.88      0.89      0.88       850\n",
      "\n",
      "\n",
      "Confusion Matrix\n",
      " [[699  25]\n",
      " [ 68  58]]\n"
     ]
    }
   ],
   "source": [
    "model_predict_with_threshold(loaded_model1,X_test,thresholdOpt,y_test)"
   ]
  },
  {
   "cell_type": "code",
   "execution_count": 43,
   "metadata": {},
   "outputs": [],
   "source": [
    "# Random Forest"
   ]
  },
  {
   "cell_type": "code",
   "execution_count": 44,
   "metadata": {},
   "outputs": [],
   "source": [
    "pred = loaded_model2.predict_proba(X_test)[:,1]\n",
    "precision, recall, thresholds = precision_recall_curve(y_test, pred)\n",
    "fscore = (2 * precision * recall) / (precision + recall)"
   ]
  },
  {
   "cell_type": "code",
   "execution_count": 45,
   "metadata": {},
   "outputs": [
    {
     "name": "stdout",
     "output_type": "stream",
     "text": [
      "Best Threshold: 0.2806 with F-Score: 0.5634\n"
     ]
    }
   ],
   "source": [
    "index = np.argmax(fscore)\n",
    "thresholdOpt = round(thresholds[index], ndigits = 4)\n",
    "fscoreOpt = round(fscore[index], ndigits = 4)\n",
    "print('Best Threshold: {} with F-Score: {}'.format(thresholdOpt, fscoreOpt))"
   ]
  },
  {
   "cell_type": "code",
   "execution_count": 46,
   "metadata": {},
   "outputs": [
    {
     "name": "stdout",
     "output_type": "stream",
     "text": [
      "Predcition Probability\n",
      "\n",
      " [[0.96123599 0.03876401]\n",
      " [0.88229601 0.11770399]\n",
      " [0.85031983 0.14968017]\n",
      " ...\n",
      " [0.760305   0.239695  ]\n",
      " [0.8863537  0.1136463 ]\n",
      " [0.89670761 0.10329239]]\n",
      "\n",
      "Predcition\n",
      "\n",
      " [0 0 0 0 0 0 0 0 0 0 0 0 0 0 1 1 0 0 1 0 0 0 0 0 0 0 0 0 0 0 0 0 0 0 0 0 1\n",
      " 0 1 0 1 1 0 0 0 0 0 0 0 0 0 0 0 1 0 0 0 0 0 0 0 0 0 0 0 0 0 0 0 0 0 1 0 1\n",
      " 0 0 0 1 0 0 0 0 0 0 0 1 0 0 0 0 0 0 0 0 0 0 0 0 0 0 0 0 0 0 1 0 0 0 0 0 0\n",
      " 0 0 1 1 0 0 1 0 0 0 0 0 1 0 0 0 0 0 0 0 0 1 0 0 0 0 0 0 0 0 0 0 0 0 0 0 0\n",
      " 0 0 0 1 0 1 0 0 0 0 1 0 0 0 0 0 0 0 0 0 0 0 1 0 1 0 0 0 0 0 0 0 0 0 1 0 1\n",
      " 0 0 0 0 1 0 0 1 1 0 0 0 0 0 1 0 0 0 0 1 0 0 0 0 0 0 0 0 0 0 0 0 0 0 0 0 0\n",
      " 0 0 0 0 1 0 0 0 0 0 0 1 0 0 0 0 0 0 0 0 0 0 0 0 0 0 0 0 0 0 0 0 1 0 0 1 0\n",
      " 0 0 0 0 0 0 0 0 0 0 0 0 0 1 0 0 0 0 0 1 0 1 0 0 0 1 0 0 0 0 0 0 1 0 0 0 0\n",
      " 0 1 0 0 0 0 0 1 0 0 0 0 0 0 0 0 0 0 0 0 0 0 1 0 0 0 0 0 0 0 0 1 1 0 0 0 0\n",
      " 0 0 0 0 0 0 1 0 1 0 0 0 0 0 0 0 1 0 0 0 0 0 0 1 1 0 0 0 0 0 0 0 0 0 1 0 0\n",
      " 0 0 0 0 0 0 0 0 0 0 0 0 0 0 0 0 0 0 0 0 0 0 0 0 0 0 0 0 0 0 0 0 0 0 0 1 1\n",
      " 0 1 0 0 0 0 0 0 0 1 0 0 0 0 0 0 0 0 0 0 0 1 0 0 0 0 0 0 0 0 0 0 0 1 0 0 0\n",
      " 0 1 1 0 0 1 0 0 0 0 0 0 0 1 1 1 0 0 0 0 0 0 0 0 0 1 1 0 0 0 0 0 0 0 0 0 1\n",
      " 0 0 0 0 0 0 0 0 0 0 0 0 0 0 0 0 0 0 0 0 0 0 0 0 0 0 0 0 0 0 0 0 0 0 0 0 0\n",
      " 0 0 0 0 0 0 0 0 0 1 0 0 0 0 0 0 0 0 0 0 0 0 0 0 0 0 0 0 0 1 0 0 0 0 0 0 0\n",
      " 0 0 0 1 0 0 0 0 0 1 0 1 0 0 1 0 0 0 0 0 0 0 0 0 0 0 1 0 0 0 0 0 0 0 0 0 1\n",
      " 0 0 0 0 0 0 0 1 0 0 0 0 0 0 0 0 0 0 0 0 0 0 0 0 0 0 0 0 0 0 0 0 0 0 0 0 0\n",
      " 0 0 0 0 0 0 0 0 0 0 0 1 0 0 0 0 0 0 0 0 0 0 0 0 0 1 0 0 0 0 0 0 0 0 1 0 0\n",
      " 0 0 0 0 0 0 0 0 0 0 0 0 0 0 0 0 0 0 0 0 0 0 0 1 0 0 0 0 0 0 0 0 0 0 0 0 0\n",
      " 1 0 0 0 0 0 0 0 0 0 0 0 0 0 0 0 0 0 0 0 0 0 0 0 0 0 0 0 0 0 0 0 0 0 0 0 0\n",
      " 0 0 0 1 0 0 1 0 0 0 1 0 0 0 0 0 0 0 0 0 1 0 0 0 0 0 0 0 0 0 0 0 0 0 0 0 0\n",
      " 0 0 0 0 0 0 0 0 0 0 0 0 0 0 0 0 1 0 0 0 0 0 0 0 1 0 0 1 0 0 0 0 0 1 0 0 0\n",
      " 0 0 0 0 0 0 0 0 0 0 0 0 0 0 0 0 0 0 0 0 0 0 0 0 0 0 0 0 0 0 0 0 0 0 0 0]\n",
      "\n",
      "Accuracy= 0.8905882352941177\n",
      "\n",
      "Classification Report\n",
      "\n",
      "               precision    recall  f1-score   support\n",
      "\n",
      "           0       0.91      0.96      0.94       724\n",
      "           1       0.69      0.48      0.56       126\n",
      "\n",
      "    accuracy                           0.89       850\n",
      "   macro avg       0.80      0.72      0.75       850\n",
      "weighted avg       0.88      0.89      0.88       850\n",
      "\n",
      "\n",
      "Confusion Matrix\n",
      " [[697  27]\n",
      " [ 66  60]]\n"
     ]
    }
   ],
   "source": [
    "model_predict_with_threshold(loaded_model2,X_test,thresholdOpt,y_test)"
   ]
  },
  {
   "cell_type": "code",
   "execution_count": 47,
   "metadata": {},
   "outputs": [],
   "source": [
    "# SVM"
   ]
  },
  {
   "cell_type": "code",
   "execution_count": 48,
   "metadata": {},
   "outputs": [],
   "source": [
    "pred = loaded_model3.predict_proba(X_test)[:,1]\n",
    "precision, recall, thresholds = precision_recall_curve(y_test, pred)\n",
    "fscore = (2 * precision * recall) / (precision + recall)"
   ]
  },
  {
   "cell_type": "code",
   "execution_count": 49,
   "metadata": {},
   "outputs": [
    {
     "name": "stdout",
     "output_type": "stream",
     "text": [
      "Best Threshold: 0.4231 with F-Score: 0.5851\n"
     ]
    }
   ],
   "source": [
    "index = np.argmax(fscore)\n",
    "thresholdOpt = round(thresholds[index], ndigits = 4)\n",
    "fscoreOpt = round(fscore[index], ndigits = 4)\n",
    "print('Best Threshold: {} with F-Score: {}'.format(thresholdOpt, fscoreOpt))"
   ]
  },
  {
   "cell_type": "code",
   "execution_count": 50,
   "metadata": {},
   "outputs": [
    {
     "name": "stdout",
     "output_type": "stream",
     "text": [
      "Predcition Probability\n",
      "\n",
      " [[0.97274449 0.02725551]\n",
      " [0.90641831 0.09358169]\n",
      " [0.86145532 0.13854468]\n",
      " ...\n",
      " [0.71868949 0.28131051]\n",
      " [0.89989547 0.10010453]\n",
      " [0.9081071  0.0918929 ]]\n",
      "\n",
      "Predcition\n",
      "\n",
      " [0 0 0 0 0 0 0 0 0 0 0 0 0 0 0 0 0 0 0 0 0 0 0 0 0 0 0 0 0 0 0 0 0 0 0 0 1\n",
      " 0 1 0 0 1 0 0 0 0 0 0 0 0 0 0 0 1 0 0 0 0 0 0 0 0 0 0 0 0 0 0 0 0 0 1 0 1\n",
      " 0 0 0 0 0 0 0 0 1 0 0 1 0 0 0 0 0 0 0 0 0 0 0 0 0 0 0 0 0 0 0 0 0 0 0 0 0\n",
      " 0 0 1 1 0 0 0 0 0 0 0 0 0 0 0 0 0 0 0 0 0 1 0 0 0 0 0 0 0 0 0 0 0 0 0 0 0\n",
      " 0 0 0 1 0 1 0 0 0 0 1 0 0 0 0 0 0 0 0 0 0 0 0 0 1 0 0 0 0 0 0 0 0 0 0 0 1\n",
      " 0 0 0 0 1 0 0 1 1 0 0 0 0 0 1 0 0 0 0 0 0 0 0 0 0 0 0 0 0 0 0 0 0 0 0 0 0\n",
      " 0 0 0 0 1 0 0 0 0 0 0 1 0 0 0 0 0 0 0 0 0 0 0 0 0 0 0 0 0 0 0 0 1 0 0 0 0\n",
      " 0 0 0 0 0 0 0 0 0 0 0 0 0 1 0 0 0 0 0 0 0 1 0 0 0 1 0 0 0 0 0 0 1 0 0 0 0\n",
      " 0 1 0 0 0 0 0 1 0 0 0 0 0 0 0 0 0 0 0 0 0 0 1 0 0 0 0 0 0 0 0 1 0 0 0 0 0\n",
      " 0 0 0 0 0 0 0 0 1 0 0 0 0 0 0 0 1 0 1 0 0 0 0 1 0 0 0 0 0 0 0 0 0 0 1 0 0\n",
      " 0 0 0 0 0 0 0 0 0 0 0 0 0 0 0 0 0 0 0 0 0 0 0 0 0 0 0 0 0 0 0 0 0 0 0 1 0\n",
      " 0 0 0 0 0 0 0 0 0 1 0 0 0 0 0 0 0 0 0 0 0 0 0 0 0 0 0 0 0 0 0 0 0 1 0 0 0\n",
      " 0 1 0 0 0 1 0 0 0 0 0 0 0 1 1 0 0 0 0 0 0 0 0 0 0 1 1 0 0 0 0 0 0 0 0 0 1\n",
      " 0 0 0 0 0 0 0 0 0 0 0 0 0 0 0 0 0 0 0 0 0 0 0 0 0 0 0 0 0 0 0 0 0 0 0 0 0\n",
      " 0 0 0 0 0 0 0 0 0 0 0 0 0 0 0 0 0 0 0 0 0 0 0 0 0 0 0 0 0 1 0 0 0 0 0 0 0\n",
      " 0 0 0 0 0 0 0 0 0 1 0 1 0 0 0 0 0 0 0 0 0 0 0 0 0 0 1 0 0 0 0 0 0 0 0 0 1\n",
      " 0 0 0 0 0 0 0 1 0 0 0 0 0 0 0 0 0 0 0 0 0 0 0 0 0 0 0 0 0 0 0 0 0 0 0 0 0\n",
      " 0 0 0 0 0 0 0 0 0 0 0 0 0 0 0 0 0 0 0 0 0 0 0 0 0 1 0 0 0 0 0 0 0 0 1 0 0\n",
      " 0 0 0 0 0 0 0 0 0 0 0 0 0 0 0 0 0 0 0 0 0 0 0 1 0 0 0 0 0 0 0 0 0 0 0 0 0\n",
      " 1 0 0 0 0 0 0 0 0 0 0 0 0 0 0 0 0 0 0 0 0 0 0 0 0 0 0 0 0 0 0 0 0 0 0 0 0\n",
      " 0 0 0 1 0 0 1 0 0 0 0 0 0 0 0 0 0 0 0 0 1 0 0 0 0 0 0 0 0 0 0 0 0 0 0 0 0\n",
      " 0 0 0 0 0 0 0 0 0 0 0 0 0 0 0 0 0 0 0 0 0 0 0 0 0 0 0 1 0 0 0 0 0 1 0 0 0\n",
      " 0 0 0 0 0 0 0 0 0 0 1 0 0 0 0 0 0 0 0 0 0 0 0 0 0 0 0 0 0 0 0 0 0 0 0 0]\n",
      "\n",
      "Accuracy= 0.908235294117647\n",
      "\n",
      "Classification Report\n",
      "\n",
      "               precision    recall  f1-score   support\n",
      "\n",
      "           0       0.91      0.99      0.95       724\n",
      "           1       0.89      0.44      0.59       126\n",
      "\n",
      "    accuracy                           0.91       850\n",
      "   macro avg       0.90      0.71      0.77       850\n",
      "weighted avg       0.91      0.91      0.89       850\n",
      "\n",
      "\n",
      "Confusion Matrix\n",
      " [[717   7]\n",
      " [ 71  55]]\n"
     ]
    }
   ],
   "source": [
    "model_predict_with_threshold(loaded_model3,X_test,thresholdOpt,y_test)"
   ]
  }
 ],
 "metadata": {
  "colab": {
   "collapsed_sections": [],
   "name": "GroupA_DataModelling_final.ipynb",
   "provenance": []
  },
  "kernelspec": {
   "display_name": "Python 3 (ipykernel)",
   "language": "python",
   "name": "python3"
  },
  "language_info": {
   "codemirror_mode": {
    "name": "ipython",
    "version": 3
   },
   "file_extension": ".py",
   "mimetype": "text/x-python",
   "name": "python",
   "nbconvert_exporter": "python",
   "pygments_lexer": "ipython3",
   "version": "3.9.6"
  }
 },
 "nbformat": 4,
 "nbformat_minor": 1
}
